{
 "cells": [
  {
   "cell_type": "markdown",
   "metadata": {},
   "source": [
    "# LLM "
   ]
  },
  {
   "cell_type": "code",
   "execution_count": 4,
   "metadata": {},
   "outputs": [],
   "source": [
    "import json\n",
    "import requests\n",
    "from dotenv import load_dotenv\n",
    "from pathlib import Path\n",
    "import os\n",
    "\n",
    "# in file .env write a line \n",
    "# EDEN_API=...\n",
    "\n",
    "load_dotenv(Path()/\"env/.env\")\n",
    "api_key = os.getenv(\"EDEN_API\")\n",
    "\n",
    "# print to check that it works to access the API key, but\n",
    "# never commit a printed API key\n",
    "# print(api_key)"
   ]
  },
  {
   "cell_type": "code",
   "execution_count": 7,
   "metadata": {},
   "outputs": [
    {
     "data": {
      "text/plain": [
       "{'openai': {'status': 'success',\n",
       "  'generated_text': \"Of course! I'm here to help. What do you need assistance with?\",\n",
       "  'message': [{'role': 'user', 'message': 'Hello i need your help !'},\n",
       "   {'role': 'assistant',\n",
       "    'message': \"Of course! I'm here to help. What do you need assistance with?\"}],\n",
       "  'cost': 7.4e-05}}"
      ]
     },
     "execution_count": 7,
     "metadata": {},
     "output_type": "execute_result"
    }
   ],
   "source": [
    "headers = {\"Authorization\": f\"Bearer {api_key}\"}\n",
    "\n",
    "url = \"https://api.edenai.run/v2/text/chat\"\n",
    "payload = {\n",
    "    \"providers\": \"openai\",\n",
    "    \"model\": \"gpt-3.5-turbo\",\n",
    "    \"text\": \"Hello i need your help ! \",\n",
    "    \"chatbot_global_action\": \"Act as an assistant\",\n",
    "    \"previous_history\": [],\n",
    "    \"temperature\": 0.0,\n",
    "    \"max_tokens\": 150,\n",
    "    \"fallback_providers\": \"perplexityai\"\n",
    "}\n",
    "\n",
    "response = requests.post(url, json=payload, headers=headers)\n",
    "\n",
    "result = json.loads(response.text)\n",
    "result"
   ]
  },
  {
   "cell_type": "markdown",
   "metadata": {},
   "source": [
    "## Setup"
   ]
  },
  {
   "cell_type": "code",
   "execution_count": 9,
   "metadata": {},
   "outputs": [
    {
     "data": {
      "text/plain": [
       "'Visste du att programmerare inte dricker vanligt vatten? De föredrar H2O2 - det är två gånger bättre!'"
      ]
     },
     "execution_count": 9,
     "metadata": {},
     "output_type": "execute_result"
    }
   ],
   "source": [
    "def chat(prompt, provider=\"openai\", model=\"gpt-3.5-turbo-0125\", temperature=0.5):\n",
    "    headers = {\"Authorization\": f\"Bearer {api_key}\"}\n",
    "\n",
    "    url = \"https://api.edenai.run/v2/text/chat\"\n",
    "    payload = {\n",
    "        \"providers\": \"openai\",\n",
    "        \"model\": \"gpt-3.5-turbo\",\n",
    "        \"text\": prompt,\n",
    "        \"chatbot_global_action\": \"Act as an assistant\",\n",
    "        \"previous_history\": [],\n",
    "        \"temperature\": 0.0,\n",
    "        \"max_tokens\": 150,\n",
    "        \"fallback_providers\": \"perplexityai\",\n",
    "    }\n",
    "\n",
    "    response = requests.post(url, json=payload, headers=headers)\n",
    "\n",
    "    result = json.loads(response.text)\n",
    "    return result[\"openai\"][\"generated_text\"]\n",
    "\n",
    "chat(\"berätta ett nördigt skämt om programmerare\")"
   ]
  },
  {
   "cell_type": "code",
   "execution_count": 15,
   "metadata": {},
   "outputs": [
    {
     "data": {
      "text/plain": [
       "PosixPath('/Users/aigineer/Documents/github/Artificial_Intelligence_HA24/data')"
      ]
     },
     "execution_count": 15,
     "metadata": {},
     "output_type": "execute_result"
    }
   ],
   "source": [
    "data_path = Path().absolute().parent / \"data\"\n",
    "data_path"
   ]
  },
  {
   "cell_type": "code",
   "execution_count": 18,
   "metadata": {},
   "outputs": [
    {
     "name": "stdout",
     "output_type": "stream",
     "text": [
      "Vill du vara med och skapa framtidens system och applikationer med AI? Då är yrkesrollen som mjukvaruutvecklare med AI kompetens och utbildningen Objektorienterad programmering med AI-kompetens rätt för dig. Som mjukvaruutvecklare skapar och skriver du program som skall utföra specifika uppgifter. Efter utbildningen kan du jobba som t ex mjukvaruutvecklare inom C#, Python och med AI-applikationer. Kort om utbildningen Göteborg\n",
      " 2024-05-19  2024-08-26  Mars/April – boka din plats här!\n",
      " Programutveckling har en betydande inverkan på teknologins framsteg, och i dagens digitala era är behovet av specialiserade utvecklare större än någonsin. Som mjukvaruutvecklare med AI-kompetens blir du en nyckelspelare i teknikens framkant, där kreativ problemlösning och passion för innovation sätter tonen. för morgondagens digitala värld. Genom att förvärva kunskaper inom objektorienterad programmering och tillämpa dessa färdigheter inom området för artificiell intelligens (AI) är mjukvaruutvecklare eftertraktade inom den dynamiska och snabbt växande teknologisektorn. Det ökande behovet av välutbildade mjukvaruutvecklare och den snabba framstegen inom artificiell intelligens skapar en gynnsam marknad för dig som vill arbeta som mjukvaruutvecklare. Med vårt omfattande nätverk av samarbetspartners ger vi dig inte bara kunskaper och färdigheter utan också en direkt väg in i arbetslivet genom flera veckors praktik. Utbildningen Objektorienterad Programmering med AI-kompetens är utvecklad i nära samarbete med ledande företag och experter inom branschen för att matcha specifika behov av kompetens inom programutveckling och artificiell intelligens. Den fokuserar primärt på objektorienterad programmering med huvudinriktning på C# men under utbildningen kommer du också att få insikter i andra relevanta programmeringsspråk. En mjukvaruutvecklare skapar och skriver programkod för att instruera datorer och andra digitala enheter att utföra specifika uppgifter. En programmerare måste vara bekant med olika programmeringsspråk, såsom Python, C++, JavaScript, och andra, beroende på det specifika användningsområdet. I rollen arbetar du även med att genomföra tester för att säkerställa att koden fungerar korrekt och uppfyller kraven. Ytterligare en arbetsuppgift är att skriva och underhålla dokumentation för kod och system för att underlätta för andra att förstå och underhålla koden. Programmerare arbetar ofta i team och måste kunna samarbeta med andra utvecklare, designers, och andra intressenter för att säkerställa att projektet når sina mål. En skicklig mjukvaruutvecklare sträcker sig bortom att bara skriva kod. Med en inriktning på objektorienterad programmering och AI-kompetens blir du mer än bara en tekniker. Genom att strukturera din kod som ”objekt” – enheter som innehåller både data och funktioner – skapar du inte bara program, utan innovativa lösningar. Med målsättningen att du som studerande ska vara väl rustad för kommande arbetsliv och uppleva din studietid som intressant, rolig och inspirerande, arbetar vi utifrån en gemensam pedagogisk plattform och format. Lärandet sker såväl på skolan som online och genom praktik (LIA). Detta är en schemalagd heltidsutbildning med undervisning 2-3 dagar per vecka. Övrig tid arbetar du självständigt eller i grupp. Under lärande i arbete, LiA, följer du de arbetstider som gäller på företaget. Antalet schemalagda dagar kan variera något mellan kurserna. Klicka på länken så tas du direkt till den information som du söker! Att söka en YH-utbildning är verkligen inte svårt. Det du ska tänka på är att lämna in din ansökan i tid, även om den inte är komplett. Det finns tid att skicka in dina bilagor även efter sista ansökningsdag. Om du inte är behörig, har du tid på dig att bli det. Om du söker till våra IT-utbildningar och har all behörighet som efterfrågas men saknar kunskaper i programmering 1, kan du få gå en avgiftsfri förberedande kurs på distans under 4.v under våren. Du får mer info när du har skickat in din ansökan. Ansökan görs i yh-antagning.se. När du skickat in dina ansökningshandlingar guidar vi dig vidare genom processen. Klicka på länken för att komma till yh-antagning.se, där du gör din ansökan Programmering 1:\n",
      "Om du saknar betyg i Programmering 1 finns det två alternativ tillgängliga för dig. Du kan antingen genomföra ett online-behörighetstest eller delta i en behörighetsförberedande onlinekurs. Kursen sträcker sig över fyra veckor, där du självständigt arbetar med förinspelade lektioner och övningar. Avslutningsvis genomförs en tentamen. Både testet och kursen är kostnadsfria, och kursen är även berättigad till CSN-stöd. När du skickar in din ansökan kommer du att få återkoppling från oss och ytterligare information om hur du kan anmäla dig till antingen testet eller kursen via YH-antagning. Matematik 2/B:\n",
      "Om du inte har betyg i Matematik 2/B kan vi stödja dig i att uppnå behörigheten genom att genomföra ett online-behörighetstest. När du skickar in din ansökan kommer du att få återkoppling från oss via YH-antagning, där får du inloggningsuppgifter och ytterligare information om hur du gör behörighetstestet. C#-utvecklare: \n",
      "I rollen som C#-utvecklare är du experten som använder C#-programmeringsspråket för att bygga mjukvarusystem. Du arbetar med allt från att skriva koden till att testa och optimera program, vilket kräver skicklighet och noggrannhet. Genom att förstå affärsbehov och översätta dem till fungerande lösningar blir du en viktig arkitekt bakom innovativa digitala produkter och tjänster. Python-utvecklare: \n",
      "Som Python-utvecklare specialiserar du dig på att använda Python-språket för att skapa lösningar inom området för Artificiell Intelligens. Ditt arbete innebär att inte bara skriva kod utan också att utveckla och implementera AI-strategier. Genom att kombinera programmeringskunskaper med en förståelse för maskininlärning blir du en nyckelperson i skapandet av framtidens intelligenta system. Programmerare: \n",
      "I rollen som Programmerare är du den kreativa hjärnan som formar och underhåller kod för olika applikationer. Du kan arbeta över olika språk och projekt, och din uppgift sträcker sig från att skapa nya funktioner till att lösa tekniska utmaningar. Genom att vara en flexibel och problemlösande expert blir du en oumbärlig del av den digitala utvecklingen.  Kursen fokuserar på agil projektmetodik med inriktning på Scrum och Kanban. Den täcker systemutvecklingsprojekt, projektstrukturer, och ger grundläggande kunskaper om agila termer. Målet är att utveckla färdigheter som krävs för arbete med agila boards, agera som Scrum master och använda agila IT-verktyg. Studenterna förväntas även uppnå kompetenser för självständig förklaring av agila ramverk och förståelse av projektledningssammanhang i arbetslivet Kursen lägger grunden för att lösa programmeringsproblem i Python med fokus på både funktionell och objektorienterad kod. Den inkluderar användning av Pandas för databehandling och olika verktyg för datavisualisering. Målet är att kunna skapa lättläslig kod och använda Python i datadriven beslutsfattning. Kursen behandlar grundläggande teoretiska och praktiska grunder för maskininlärning. Den fokuserar på tillämpningar av maskininlärning för att lösa verkliga problem, inklusive utveckling av maskininlärningsmodeller, datarensning och skapande av dashboards för ML-tillämpning. Kursen fokuserar på modellering, konstruktion och användning av relationsdatabaser. Den inkluderar SQL-metoder, begrepp inom datastrukturer, planering och modellering av databaser samt verktyg för databasutveckling. Målet är att kunna skapa och använda relationsdatabaser samt ställa SQL-frågor. Kursen ger grundläggande förståelse för programmering och objektorientering, inklusive programmerarens yrkesroll, grundläggande programmering och principer för objektorienterad programmering. Den fokuserar på att ge kunskap om grunderna i objektorienterad programmering. Under kursen kopplas teoretiska kunskaper till arbetsplatskontext. Den omfattar systemutveckling/AI-relaterade arbetsuppgifter, utvecklingsarbetets organisation och verktyg, metoder och utvecklingsmiljöer. Målet är att kunna använda utrustning och verktyg på arbetsplatsen och självständigt delta i utvecklingsprojekt. Kursen fördjupar och utvecklar kunskaper från tidigare kurser inom systemutveckling/AI. Den innefattar systemutvecklingsprojekt, arbetsmoment och självständig användning av utrustning och metoder. Målet är att kunna konstruera program, planera och utföra felsökning, samt arbeta enligt agila projektmetoder. Denna kurs fokuserar på att ge en grundläggande förståelse för objektorienterad programmering, inklusive koncept som inkapsling och arv. Studenterna utvecklar praktiska färdigheter såsom användning av konsolverktyg och versionshantering. Målet är att efter kursen kunna självständigt konstruera och implementera enkla program och hantera grundläggande programkod. Den avancerade kursen fokuserar på att utveckla avancerade webbbackend-system med användning av återanvändbara programkomponenter och ORM för databaskommunikation. Kursen täcker även utveckling av webbfrontend med HTML, CSS och JavaScript, samt viktiga områden som testdriven utveckling, säkerhet och Continuous Integration. Kursen är idealisk för dem som vill fördjupa sina kunskaper och färdigheter för att framgångsrikt arbeta inom större projekt. Examensarbetet syftar till självständig fördjupning inom systemutveckling. Det inkluderar presentationsteknik, projektledning och förmågan att analysera, planera, genomföra och redovisa ett eget projekt. Målet är att visa fördjupad kunskap inom det valda området och förmåga att presentera arbete skriftligt och muntligt. Genom din praktikperiod (14 v)(20 v) ute på företag får du möjlighet att skapa goda relationer och få värdefull praktisk erfarenhet. NBI/Handelsakademin kan tipsa om LiA-företag, men du tar själv kontakt med företaget och säljer in dig. Du kan göra din LiA på vilken ort du vill, även utomlands, så länge uppgifterna är i linje med kursplanen och det finns en engagerad handledare som vet vad det innebär. Din utbildningsledare kommer att ha kontakt med handledaren i företaget och gör vanligtvis ett besök på ditt LiA-företag. Under lärande i arbete (LIA) följer du de arbetstider som gäller på praktikföretaget. Stjärnstoftstudios, Axis, Edument, FOI, Quicksearch, Consid, Ensolution, Metabytes, Wordline, Entergate, Nexer Group, Sogeti, Helo, Omegapoint, Sigma, Extrapreneur ,ZoCom, On-Iq Solution, Semcon, Consid, Axis m.fl. YH-utbildningar matchas mot arbetslivets behov och innebär att deras innehåll och inriktning utvecklas och förändras. Nya utbildningar kan starta och andra försvinna allt eftersom kompetensbehovet förändras. För dig som studerande innebär det att din yrkeskunskap är aktuell och efterfrågad i arbetslivet när du är klar med din utbildning. Vår utbildning är CSN-berättigad och kvalificerar också för omställningsstudiestöd, vilket ger dig möjlighet att få ekonomiskt stöd under din studieperiod. För ytterligare information om omställningsstudiestödet och att söka CSN, klicka på de separata länkarna nedan. Varje länk leder dig till en sida där du kan läsa mer om hur du kan få stöd för din nya framtid  magdalena.vidoevska@nbi-handelsakademin.se  +46 31-704 67 16\n",
      "sandra.kellander@nbi-handelsakademin.se sandra.kellander@nbi-handelsakademin.se  +46 31-704 67 19\n",
      "magdalena.fagerlind@nbi-handelsakademin.se magdalena.fagerlind@nbi-handelsakademin.se Du kan alltid maila oss på hej@nbi-handelsakademin.se så hjälper vi dig vidare! hej@nbi-handelsakademin.se hej@nbi-handelsakademin.se “Som regel är AI inte att sitta och programmera robotarna från Iron Man, dvs robotar som drar slutsatser, lär sig och självkorrigerar. Det är i verkligheten att hantera stora mängder data och att ta fram och använda algoritmer för att datorn ska kunna ”dra slutsatser” av den data du samlat in.”  “Du skaffar dig ett mindset – hur du kan prata med maskiner med hjälp av kod. Du får en bred förståelse för AI, en bredd inom programmeringstänk och du lär dig lösa svåra problem genom programmering.”  “Det bästa är att man får med sig hela kedjan: frontend, databaser backend kod, och så kurserna inom AI.”  Utöver gymnasieexamen, finns det finns det krav på så kallade särskilda förkunskaper. Det brukar handla om att du ska ha godkända betyg från vissa specifika kurser från gymnasiet eller att du ska ha viss arbetslivserfarenhet. I denna video går vi igenom vad som är viktigt inför din ansökan Vill du söka till en av våra IT-utbildningar men har inte läst programmering 1? Vi har förberedande kurser som gör dig behörig. I denna video går vi igenom hur du söker till en av våra förberedande kurser i programmering 1 När vi har många sökande och ska rangordna alla behöriga via ”urval”, har vi valt att göra det med hjälp av ett urvalsprov. Ett sådant prov kan ge extra poäng i rangordningen, och det ökar din chans att bli antagen. I denna video går vi igenom urvalsprov och hur detta går till Antagningsprocessen kan pågå ändå fram till utbildningsstart. Du har lämnat in din ansökan, men vad händer nu? I denna video går vi igenom vad som sker efter det att du lämnat in din ansökan, vad som är viktigt att hålla koll på, och när du kan förvänta dig att få ett antagningsbesked från oss. Vår strävan är att göra skillnad och förändra livet för människor. Vi vill skapa en bättre framtid och konkurrenskraft för människor och företag genom utbildning, utveckling och upplevelser i en trygg, familjär och inspirerande miljö. Om behandling av personuppgifter (GDPR) Om hantering av cookies Policy för SoMe Redegatan 1B\n",
      "426 77 Göteborg hej@nbi-handelsakademin.se\n",
      "Växel: 031 – 704 67 00 Logga in \n",
      "\t\t\t\t© 2020 NBI Handelsakademin\t\t\t  Denna webbplats använder cookies. NBI/Handelsakademin använder cookies för att ge dig anpassat innehåll och en bättre upplevelse på vår webbplats. Genom att klicka på ikonen ”tillåt alla” bekräftar du att du samtycker till vår användning av cookies. Läs mer om vår hantering av cookies här.\n"
     ]
    }
   ],
   "source": [
    "with open(data_path / \"programmering-med-ai-kompetens.txt\", \"r\") as file:\n",
    "    raw_text = file.read()\n",
    "\n",
    "print(raw_text)\n"
   ]
  }
 ],
 "metadata": {
  "kernelspec": {
   "display_name": "venv",
   "language": "python",
   "name": "python3"
  },
  "language_info": {
   "codemirror_mode": {
    "name": "ipython",
    "version": 3
   },
   "file_extension": ".py",
   "mimetype": "text/x-python",
   "name": "python",
   "nbconvert_exporter": "python",
   "pygments_lexer": "ipython3",
   "version": "3.11.8"
  }
 },
 "nbformat": 4,
 "nbformat_minor": 2
}
