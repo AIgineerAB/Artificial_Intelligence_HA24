{
 "cells": [
  {
   "cell_type": "markdown",
   "metadata": {},
   "source": [
    "# Lab deep learning - some details\n",
    "\n",
    "## Notes \n",
    "\n",
    "- test dataset from original data doesn't have any labels\n",
    "- test part is used for competition - that's why it doesn't have labels\n",
    "- train part - have labels in their names \n",
    "\n",
    "Examples\n",
    "```\n",
    "cat.2314.jpg\n",
    "dog.2134.jpg\n",
    "```\n",
    "\n",
    "## 0c) and 0d)\n",
    "\n",
    "- move data into new folder structure\n",
    "- test, train and val are folders \n",
    "- pick data from original train and move it into the new folders\n",
    "\n",
    "```md\n",
    "├── experiment_small_data\n",
    "│ ├── test\n",
    "│ ├── train\n",
    "│ └── val\n",
    "\n",
    "```\n",
    "\n",
    "- data that should be moved from original train to the different folders \n",
    "- there shouldn't copies of images "
   ]
  },
  {
   "cell_type": "code",
   "execution_count": null,
   "metadata": {},
   "outputs": [],
   "source": []
  },
  {
   "cell_type": "markdown",
   "metadata": {},
   "source": []
  }
 ],
 "metadata": {
  "kernelspec": {
   "display_name": "venv",
   "language": "python",
   "name": "python3"
  },
  "language_info": {
   "name": "python",
   "version": "3.11.8"
  }
 },
 "nbformat": 4,
 "nbformat_minor": 2
}
