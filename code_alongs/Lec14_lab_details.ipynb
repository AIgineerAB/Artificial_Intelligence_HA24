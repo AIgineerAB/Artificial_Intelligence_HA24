{
 "cells": [
  {
   "cell_type": "markdown",
   "metadata": {},
   "source": [
    "# Lab deep learning - some details\n",
    "\n",
    "## Notes \n",
    "\n",
    "- test dataset from original data doesn't have any labels\n",
    "- test part is used for competition - that's why it doesn't have labels\n",
    "- train part - have labels in their names \n",
    "\n",
    "Examples\n",
    "```\n",
    "cat.2314.jpg\n",
    "dog.2134.jpg\n",
    "```\n",
    "\n",
    "## 0c) and 0d)\n",
    "\n",
    "- move data into new folder structure\n",
    "- test, train and val are folders \n",
    "- pick data from original train and move it into the new folders\n",
    "\n",
    "```md\n",
    "├── experiment_small_data\n",
    "│ ├── test\n",
    "│ ├── train\n",
    "│ └── val\n",
    "\n",
    "```\n",
    "\n",
    "- data that should be moved from original train to the different folders \n",
    "- there shouldn't copies of images "
   ]
  },
  {
   "cell_type": "markdown",
   "metadata": {},
   "source": [
    "## 0e) \n",
    "\n",
    "1. få en lista av filnamn\n",
    "2. slumpa listan\n",
    "3. list comprehension -> läsa in bilderna - resultatet är en lista av numpy arrays\n",
    "4. från slumpade listan plocka ut labels i form av 0 och 1 i en array -> y_train"
   ]
  },
  {
   "cell_type": "code",
   "execution_count": 22,
   "metadata": {},
   "outputs": [
    {
     "data": {
      "text/plain": [
       "10"
      ]
     },
     "execution_count": 22,
     "metadata": {},
     "output_type": "execute_result"
    }
   ],
   "source": [
    "from pathlib import Path\n",
    "import matplotlib.pyplot as plt \n",
    "\n",
    "datapath = Path().absolute().parent / \"data\"\n",
    "images = [plt.imread(path) for path in datapath.glob(\"*.jpg\")]\n",
    "\n",
    "len(images)\n"
   ]
  },
  {
   "cell_type": "code",
   "execution_count": 23,
   "metadata": {},
   "outputs": [
    {
     "data": {
      "text/plain": [
       "((374, 500, 3), (320, 250, 3))"
      ]
     },
     "execution_count": 23,
     "metadata": {},
     "output_type": "execute_result"
    }
   ],
   "source": [
    "images[0].shape, images[1].shape"
   ]
  },
  {
   "cell_type": "code",
   "execution_count": 24,
   "metadata": {},
   "outputs": [
    {
     "data": {
      "text/plain": [
       "['/Users/aigineer/Documents/github/Artificial_Intelligence_HA24/data/cat.9922.jpg',\n",
       " '/Users/aigineer/Documents/github/Artificial_Intelligence_HA24/data/dog.10143.jpg',\n",
       " '/Users/aigineer/Documents/github/Artificial_Intelligence_HA24/data/cat.9921.jpg',\n",
       " '/Users/aigineer/Documents/github/Artificial_Intelligence_HA24/data/cat.9920.jpg',\n",
       " '/Users/aigineer/Documents/github/Artificial_Intelligence_HA24/data/dog.10144.jpg',\n",
       " '/Users/aigineer/Documents/github/Artificial_Intelligence_HA24/data/cat.9919.jpg',\n",
       " '/Users/aigineer/Documents/github/Artificial_Intelligence_HA24/data/dog.10135.jpg',\n",
       " '/Users/aigineer/Documents/github/Artificial_Intelligence_HA24/data/dog.10136.jpg',\n",
       " '/Users/aigineer/Documents/github/Artificial_Intelligence_HA24/data/dog.10137.jpg',\n",
       " '/Users/aigineer/Documents/github/Artificial_Intelligence_HA24/data/dog.10138.jpg']"
      ]
     },
     "execution_count": 24,
     "metadata": {},
     "output_type": "execute_result"
    }
   ],
   "source": [
    "paths = [str(path) for path in datapath.glob(\"*.jpg\")]\n",
    "paths"
   ]
  },
  {
   "cell_type": "code",
   "execution_count": 25,
   "metadata": {},
   "outputs": [
    {
     "data": {
      "text/plain": [
       "False"
      ]
     },
     "execution_count": 25,
     "metadata": {},
     "output_type": "execute_result"
    }
   ],
   "source": [
    "\"dog\" in paths[0]"
   ]
  },
  {
   "cell_type": "code",
   "execution_count": 28,
   "metadata": {},
   "outputs": [
    {
     "data": {
      "text/plain": [
       "array([0, 1, 0, 0, 1, 0, 1, 1, 1, 1])"
      ]
     },
     "execution_count": 28,
     "metadata": {},
     "output_type": "execute_result"
    }
   ],
   "source": [
    "import numpy as np \n",
    "y = np.array([int(\"dog\" in path) for path in paths])\n",
    "y"
   ]
  },
  {
   "cell_type": "markdown",
   "metadata": {},
   "source": [
    "## 1a) pick out shapes"
   ]
  },
  {
   "cell_type": "code",
   "execution_count": 32,
   "metadata": {},
   "outputs": [
    {
     "data": {
      "text/plain": [
       "[374, 320, 333, 375, 228, 420, 371, 270, 499, 500]"
      ]
     },
     "execution_count": 32,
     "metadata": {},
     "output_type": "execute_result"
    }
   ],
   "source": [
    "heights = [image.shape[0] for image in images]\n",
    "widths = [image.shape[1] for image in images]\n",
    "heights"
   ]
  },
  {
   "cell_type": "code",
   "execution_count": 33,
   "metadata": {},
   "outputs": [
    {
     "data": {
      "text/plain": [
       "[500, 250, 385, 499, 144, 499, 499, 299, 375, 378]"
      ]
     },
     "execution_count": 33,
     "metadata": {},
     "output_type": "execute_result"
    }
   ],
   "source": [
    "widths"
   ]
  },
  {
   "cell_type": "code",
   "execution_count": 34,
   "metadata": {},
   "outputs": [
    {
     "data": {
      "text/plain": [
       "<seaborn.axisgrid.JointGrid at 0x16b4945d0>"
      ]
     },
     "execution_count": 34,
     "metadata": {},
     "output_type": "execute_result"
    },
    {
     "data": {
      "image/png": "[encoded data removed]",
      "text/plain": [
       "<Figure size 600x600 with 3 Axes>"
      ]
     },
     "metadata": {},
     "output_type": "display_data"
    }
   ],
   "source": [
    "import seaborn as sns \n",
    "\n",
    "sns.jointplot(x=widths, y=heights)"
   ]
  },
  {
   "cell_type": "markdown",
   "metadata": {},
   "source": [
    "## pick size to use \n",
    "\n",
    "large size\n",
    "- a lot of details \n",
    "- risk for overfitting\n",
    "- computational costly\n",
    "\n",
    "small size\n",
    "- cheaper computation\n",
    "- less details \n",
    "- less details make less overfitting in general, but don't have too little details\n",
    "\n",
    "something consider\n",
    "- don't go outside of the range of your distribution\n",
    "- ex (150, 150), (180, 200), (120, 120)\n",
    "- size by itself is a hyperparameter"
   ]
  },
  {
   "cell_type": "code",
   "execution_count": 36,
   "metadata": {},
   "outputs": [],
   "source": [
    "# resizing something like this \n",
    "# image_resize = np.array([cv2.resize(image, width, height) for image in images])"
   ]
  }
 ],
 "metadata": {
  "kernelspec": {
   "display_name": "venv",
   "language": "python",
   "name": "python3"
  },
  "language_info": {
   "codemirror_mode": {
    "name": "ipython",
    "version": 3
   },
   "file_extension": ".py",
   "mimetype": "text/x-python",
   "name": "python",
   "nbconvert_exporter": "python",
   "pygments_lexer": "ipython3",
   "version": "3.11.8"
  }
 },
 "nbformat": 4,
 "nbformat_minor": 2
}
